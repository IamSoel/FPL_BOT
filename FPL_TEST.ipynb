{
 "metadata": {
  "language_info": {
   "codemirror_mode": {
    "name": "ipython",
    "version": 3
   },
   "file_extension": ".py",
   "mimetype": "text/x-python",
   "name": "python",
   "nbconvert_exporter": "python",
   "pygments_lexer": "ipython3",
   "version": "3.8.5-final"
  },
  "orig_nbformat": 2,
  "kernelspec": {
   "name": "python38564bit5e9a74e2add6471088cee4592418b421",
   "display_name": "Python 3.8.5 64-bit"
  }
 },
 "nbformat": 4,
 "nbformat_minor": 2,
 "cells": [
  {
   "cell_type": "code",
   "execution_count": 2,
   "metadata": {},
   "outputs": [],
   "source": [
    "import requests,json\n",
    "import csv"
   ]
  },
  {
   "cell_type": "code",
   "execution_count": 7,
   "metadata": {},
   "outputs": [],
   "source": [
    "FPL_URL = \"https://fantasy.premierleague.com/api/\"\n",
    "ALL = \"bootstrap-static/\"\n",
    "Fixture= \"fixtures/?event=\""
   ]
  },
  {
   "cell_type": "code",
   "execution_count": 8,
   "metadata": {},
   "outputs": [],
   "source": [
    "FPL_ALL_DATA=FPL_URL+ALL\n",
    "FPL_FIXTURES_DATA=FPL_URL+Fixture\n"
   ]
  },
  {
   "cell_type": "code",
   "execution_count": 93,
   "metadata": {
    "tags": []
   },
   "outputs": [
    {
     "output_type": "error",
     "ename": "NameError",
     "evalue": "name 'gameweek' is not defined",
     "traceback": [
      "\u001b[0;31m---------------------------------------------------------------------------\u001b[0m",
      "\u001b[0;31mNameError\u001b[0m                                 Traceback (most recent call last)",
      "\u001b[0;32m<ipython-input-93-870ce2b0922c>\u001b[0m in \u001b[0;36m<module>\u001b[0;34m\u001b[0m\n\u001b[1;32m      4\u001b[0m \u001b[0mresponse\u001b[0m\u001b[0;34m=\u001b[0m\u001b[0mr\u001b[0m\u001b[0;34m.\u001b[0m\u001b[0mjson\u001b[0m\u001b[0;34m(\u001b[0m\u001b[0;34m)\u001b[0m\u001b[0;34m\u001b[0m\u001b[0;34m\u001b[0m\u001b[0m\n\u001b[1;32m      5\u001b[0m \u001b[0;34m\u001b[0m\u001b[0m\n\u001b[0;32m----> 6\u001b[0;31m \u001b[0mURL\u001b[0m\u001b[0;34m=\u001b[0m\u001b[0mFPL_FIXTURES_DATA\u001b[0m\u001b[0;34m+\u001b[0m\u001b[0mstr\u001b[0m\u001b[0;34m(\u001b[0m\u001b[0mgameweek\u001b[0m\u001b[0;34m)\u001b[0m\u001b[0;34m\u001b[0m\u001b[0;34m\u001b[0m\u001b[0m\n\u001b[0m\u001b[1;32m      7\u001b[0m \u001b[0mmatchdata\u001b[0m\u001b[0;34m=\u001b[0m\u001b[0mrequests\u001b[0m\u001b[0;34m.\u001b[0m\u001b[0mget\u001b[0m\u001b[0;34m(\u001b[0m\u001b[0mURL\u001b[0m\u001b[0;34m)\u001b[0m\u001b[0;34m\u001b[0m\u001b[0;34m\u001b[0m\u001b[0m\n\u001b[1;32m      8\u001b[0m \u001b[0mfix\u001b[0m\u001b[0;34m=\u001b[0m\u001b[0mmatchdata\u001b[0m\u001b[0;34m.\u001b[0m\u001b[0mjson\u001b[0m\u001b[0;34m(\u001b[0m\u001b[0;34m)\u001b[0m\u001b[0;34m\u001b[0m\u001b[0;34m\u001b[0m\u001b[0m\n",
      "\u001b[0;31mNameError\u001b[0m: name 'gameweek' is not defined"
     ]
    }
   ],
   "source": [
    "# r=requests.get(FPL_ALL_DATA)\n",
    "# response=r.json()\n",
    "r=requests.get(FPL_ALL_DATA)\n",
    "response=r.json()\n",
    "\n",
    "\n",
    "# print(json.dumps(response,indent=4,sort_keys=True))\n"
   ]
  },
  {
   "cell_type": "code",
   "execution_count": 94,
   "metadata": {
    "tags": []
   },
   "outputs": [
    {
     "output_type": "stream",
     "name": "stdout",
     "text": [
      "Chelsea:4 | Crystal Palace:0\nEverton:4 | Brighton:2\nLeeds:1 | Man City:1\nNewcastle:3 | Burnley:1\nLeicester:0 | West Ham:3\nSouthampton:2 | West Brom:0\nArsenal:2 | Sheffield Utd:1\nWolves:1 | Fulham:0\nMan Utd:1 | Spurs:6\nAston Villa:7 | Liverpool:2\n"
     ]
    }
   ],
   "source": [
    "def fixtures(gameweek):\n",
    "    URL=FPL_FIXTURES_DATA+str(gameweek)\n",
    "    matchdata=requests.get(URL)\n",
    "    fix=matchdata.json()\n",
    "    # print(len(fix))\n",
    "\n",
    "    # print(json.dumps(fix,indent=4,sort_keys=True))\n",
    "    for num in range(0,len(fix)):  \n",
    "        hometeam=fix[num]['team_h']\n",
    "        hometeam_score=fix[num]['team_h_score']\n",
    "        for i in response['teams']:\n",
    "            if i['id']==hometeam:\n",
    "                hometeam_name=i['name']\n",
    "    \n",
    "        awayteam=fix[num]['team_a']\n",
    "        awayteam_score=fix[num]['team_a_score']\n",
    "        for i in response['teams']:\n",
    "            if i['id']==awayteam:\n",
    "                awayteam_name=i['name']\n",
    "        \n",
    "\n",
    "        print(hometeam_name+':'+str(hometeam_score) +' | '+ awayteam_name+':'+str(awayteam_score))\n",
    "   \n",
    "    \n",
    "fixtures(4)\n"
   ]
  },
  {
   "cell_type": "code",
   "execution_count": 102,
   "metadata": {},
   "outputs": [
    {
     "output_type": "stream",
     "name": "stdout",
     "text": [
      "Chelsea:4 | Crystal Palace:0\n"
     ]
    }
   ],
   "source": [
    "def results_by_team(teamname,gameweek):\n",
    "    URL=FPL_FIXTURES_DATA+str(gameweek)\n",
    "    matchdata=requests.get(URL)\n",
    "    fix=matchdata.json()\n",
    "    for i in response['teams']:\n",
    "        if i['name']==teamname:\n",
    "            team_id=i['id']\n",
    "    for num in range(0,len(fix)):\n",
    "        if fix[num]['team_a']==team_id or fix[num]['team_h']==team_id:\n",
    "            awayteamid=fix[num]['team_a']\n",
    "            awayteam_score=fix[num]['team_a_score']\n",
    "            for i in response['teams']:\n",
    "                if i['id']==awayteamid:\n",
    "                    awayteam_name=i['name']\n",
    "            hometeamid=fix[num]['team_h']\n",
    "            hometeam_score=fix[num]['team_h_score']\n",
    "            for i in response['teams']:\n",
    "                if i['id']==hometeamid:\n",
    "                    hometeam_name=i['name']\n",
    "            \n",
    "    print(hometeam_name+':'+str(hometeam_score) +' | '+ awayteam_name+':'+str(awayteam_score))\n",
    "\n",
    "            \n",
    "\n",
    "results_by_team('Chelsea',4)\n"
   ]
  },
  {
   "cell_type": "code",
   "execution_count": null,
   "metadata": {},
   "outputs": [],
   "source": []
  }
 ]
}