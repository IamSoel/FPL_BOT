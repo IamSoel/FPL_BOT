{
 "metadata": {
  "language_info": {
   "codemirror_mode": {
    "name": "ipython",
    "version": 3
   },
   "file_extension": ".py",
   "mimetype": "text/x-python",
   "name": "python",
   "nbconvert_exporter": "python",
   "pygments_lexer": "ipython3",
   "version": "3.8.5-final"
  },
  "orig_nbformat": 2,
  "kernelspec": {
   "name": "python38564bit5e9a74e2add6471088cee4592418b421",
   "display_name": "Python 3.8.5 64-bit"
  }
 },
 "nbformat": 4,
 "nbformat_minor": 2,
 "cells": [
  {
   "cell_type": "code",
   "execution_count": 2,
   "metadata": {},
   "outputs": [],
   "source": [
    "import requests,json\n",
    "import csv"
   ]
  },
  {
   "cell_type": "code",
   "execution_count": 3,
   "metadata": {},
   "outputs": [],
   "source": [
    "FPL_URL = \"https://fantasy.premierleague.com/api/\"\n",
    "ALL = \"bootstrap-static/\"\n",
    "Fixture= \"fixtures/?event=\""
   ]
  },
  {
   "cell_type": "code",
   "execution_count": 4,
   "metadata": {},
   "outputs": [],
   "source": [
    "FPL_ALL_DATA=FPL_URL+ALL\n",
    "FPL_FIXTURES_DATA=FPL_URL+Fixture\n"
   ]
  },
  {
   "cell_type": "code",
   "execution_count": 5,
   "metadata": {
    "tags": []
   },
   "outputs": [],
   "source": [
    "# r=requests.get(FPL_ALL_DATA)\n",
    "# response=r.json()\n",
    "r=requests.get(FPL_ALL_DATA)\n",
    "response=r.json()\n",
    "\n",
    "\n",
    "# print(json.dumps(response,indent=4,sort_keys=True))\n"
   ]
  },
  {
   "cell_type": "code",
   "execution_count": 9,
   "metadata": {
    "tags": []
   },
   "outputs": [
    {
     "output_type": "stream",
     "name": "stdout",
     "text": [
      "Chelsea:4 | Crystal Palace:0\nEverton:4 | Brighton:2\nLeeds:1 | Man City:1\nNewcastle:3 | Burnley:1\nLeicester:0 | West Ham:3\nSouthampton:2 | West Brom:0\nArsenal:2 | Sheffield Utd:1\nWolves:1 | Fulham:0\nMan Utd:1 | Spurs:6\nAston Villa:7 | Liverpool:2\n"
     ]
    }
   ],
   "source": [
    "def fixtures(gameweek):\n",
    "    URL=FPL_FIXTURES_DATA+str(gameweek)\n",
    "    matchdata=requests.get(URL)\n",
    "    fix=matchdata.json()\n",
    "    # print(len(fix))\n",
    "\n",
    "    # print(json.dumps(fix,indent=4,sort_keys=True))\n",
    "    for num in range(0,len(fix)):  \n",
    "        hometeam=fix[num]['team_h']\n",
    "        hometeam_score=fix[num]['team_h_score']\n",
    "        for i in response['teams']:\n",
    "            if i['id']==hometeam:\n",
    "                hometeam_name=i['name']\n",
    "    \n",
    "        awayteam=fix[num]['team_a']\n",
    "        awayteam_score=fix[num]['team_a_score']\n",
    "        for i in response['teams']:\n",
    "            if i['id']==awayteam:\n",
    "                awayteam_name=i['name']\n",
    "        \n",
    "\n",
    "        print(hometeam_name+':'+str(hometeam_score) +' | '+ awayteam_name+':'+str(awayteam_score))\n",
    "   \n",
    "    \n",
    "fixtures(4)\n"
   ]
  },
  {
   "cell_type": "code",
   "execution_count": 64,
   "metadata": {},
   "outputs": [
    {
     "output_type": "stream",
     "name": "stdout",
     "text": [
      "Aston Villa:7 | Liverpool:2\n---------Aston Villa Stats ----------\nGoal Scorers\n\tWatkins:3\n\tGrealish:2\n\tMcGinn:1\n\tBarkley:1\nAssists\n\tGrealish:3\n\tMcGinn:1\n\tTrézéguet:1\n\tWatkins:1\n\n---------Liverpool Stats ----------\nGoal Scorers\n\tSalah:2\nAssists\n\tFirmino:1\n"
     ]
    }
   ],
   "source": [
    "def results_by_team(teamname,gameweek):\n",
    "    URL=FPL_FIXTURES_DATA+str(gameweek)\n",
    "    matchdata=requests.get(URL)\n",
    "    fix=matchdata.json()\n",
    "    for i in response['teams']:\n",
    "        if i['name']==teamname:\n",
    "            team_id=i['id']\n",
    "    #score of match\n",
    "    for num in range(0,len(fix)):\n",
    "        if fix[num]['team_a']==team_id or fix[num]['team_h']==team_id:\n",
    "            matchid=fix[num][\"id\"]  #id of the particular match\n",
    "            awayteamid=fix[num]['team_a']\n",
    "            awayteam_score=fix[num]['team_a_score']\n",
    "            for i in response['teams']:\n",
    "                if i['id']==awayteamid:\n",
    "                    awayteam_name=i['name']\n",
    "            hometeamid=fix[num]['team_h']\n",
    "            hometeam_score=fix[num]['team_h_score']\n",
    "            for i in response['teams']:\n",
    "                if i['id']==hometeamid:\n",
    "                    hometeam_name=i['name']\n",
    "    \n",
    "    #stats of the match\n",
    "    homescorers=[]\n",
    "    awayscorers=[]\n",
    "    homeassisters=[]\n",
    "    awayassisters=[]\n",
    "    \n",
    "    for num in range(0,len(fix)):\n",
    "        if fix[num]['id']==matchid:\n",
    "            for stat in fix[num][\"stats\"]:  \n",
    "                if stat['identifier']=='goals_scored':  #goal scored stats\n",
    "                    for homescorer in stat['h']:  #goal scorers of home team\n",
    "                        homescorers.append(homescorer)\n",
    "                    for awayscorer in stat['a']:   #goal scorers of away team\n",
    "                        awayscorers.append(awayscorer)\n",
    "\n",
    "                if stat['identifier']=='assists':   #assists stats\n",
    "                    for homeassister in stat['h']:  #assist players of home team\n",
    "                        homeassisters.append(homeassister)\n",
    "                    for awayassister in stat['a']:   #assist players of away team\n",
    "                        awayassisters.append(awayassister)\n",
    "\n",
    "    \n",
    "    #for home team\n",
    "    home_scorer_ids=[i['element'] for i in homescorers]\n",
    "    home_scorer_values=[i['value'] for i in homescorers]\n",
    "    homescorer_webnames=[]\n",
    "\n",
    "    home_assist_ids=[i['element'] for i in homeassisters]\n",
    "    home_assist_values=[i['value'] for i in homeassisters]\n",
    "    homeassist_webnames=[]\n",
    "\n",
    "    for player in home_scorer_ids:\n",
    "        for i in response['elements']:\n",
    "            if i['id']==player:\n",
    "                homescorer_webnames.append(i['web_name'])\n",
    "\n",
    "    for player in home_assist_ids:\n",
    "        for i in response['elements']:\n",
    "            if i['id']==player:\n",
    "                homeassist_webnames.append(i['web_name'])\n",
    "\n",
    "    #for away team\n",
    "    away_scorer_ids=[i['element'] for i in awayscorers]\n",
    "    away_scorer_values=[i['value'] for i in awayscorers]\n",
    "    awayscorer_webnames=[]\n",
    "\n",
    "    away_assist_ids=[i['element'] for i in awayassisters]\n",
    "    away_assist_values=[i['value'] for i in awayassisters]\n",
    "    awayassist_webnames=[]\n",
    "    \n",
    "    for player in away_scorer_ids:\n",
    "        for i in response['elements']:\n",
    "            if i['id']==player:\n",
    "                awayscorer_webnames.append(i['web_name'])\n",
    "    for player in away_assist_ids:\n",
    "        for i in response['elements']:\n",
    "            if i['id']==player:\n",
    "                awayassist_webnames.append(i['web_name'])\n",
    "\n",
    "\n",
    "    #score display\n",
    "    print(hometeam_name+':'+str(hometeam_score) +' | '+ awayteam_name+':'+str(awayteam_score))\n",
    "\n",
    "    #hometeam stats display\n",
    "    print('---------'+hometeam_name+' Stats ----------')\n",
    "    print('Goal Scorers')\n",
    "    count=0\n",
    "    for player in homescorer_webnames:\n",
    "        print('\\t'+player+':'+str(home_scorer_values[count]))\n",
    "        count=count+1\n",
    "    print('Assists')\n",
    "    count=0\n",
    "    for player in homeassist_webnames:\n",
    "        print('\\t'+player+':'+str(home_assist_values[count]))\n",
    "        count=count+1\n",
    "\n",
    "    #awayteam stats display\n",
    "    print('\\n---------'+awayteam_name+' Stats ----------')\n",
    "    print('Goal Scorers')\n",
    "    count=0\n",
    "    for player in awayscorer_webnames:\n",
    "        print('\\t'+player+':'+str(away_scorer_values[count]))\n",
    "        count=count+1\n",
    "    print('Assists')\n",
    "    count=0\n",
    "    for player in awayassist_webnames:\n",
    "        print('\\t'+player+':'+str(away_assist_values[count]))\n",
    "        count=count+1\n",
    "            \n",
    "\n",
    "results_by_team('Liverpool',4)\n"
   ]
  },
  {
   "cell_type": "code",
   "execution_count": null,
   "metadata": {},
   "outputs": [],
   "source": []
  }
 ]
}