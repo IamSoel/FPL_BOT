{
 "metadata": {
  "language_info": {
   "codemirror_mode": {
    "name": "ipython",
    "version": 3
   },
   "file_extension": ".py",
   "mimetype": "text/x-python",
   "name": "python",
   "nbconvert_exporter": "python",
   "pygments_lexer": "ipython3",
   "version": "3.8.5-final"
  },
  "orig_nbformat": 2,
  "kernelspec": {
   "name": "python38564bit5e9a74e2add6471088cee4592418b421",
   "display_name": "Python 3.8.5 64-bit"
  }
 },
 "nbformat": 4,
 "nbformat_minor": 2,
 "cells": [
  {
   "cell_type": "code",
   "execution_count": 2,
   "metadata": {},
   "outputs": [],
   "source": [
    "import requests,json\n",
    "import csv"
   ]
  },
  {
   "cell_type": "code",
   "execution_count": 3,
   "metadata": {},
   "outputs": [],
   "source": [
    "FPL_URL = \"https://fantasy.premierleague.com/api/\"\n",
    "ALL = \"bootstrap-static/\"\n",
    "Fixture= \"fixtures/?event=\""
   ]
  },
  {
   "cell_type": "code",
   "execution_count": 4,
   "metadata": {},
   "outputs": [],
   "source": [
    "FPL_ALL_DATA=FPL_URL+ALL\n",
    "FPL_FIXTURES_DATA=FPL_URL+Fixture\n"
   ]
  },
  {
   "cell_type": "code",
   "execution_count": 5,
   "metadata": {
    "tags": []
   },
   "outputs": [],
   "source": [
    "# r=requests.get(FPL_ALL_DATA)\n",
    "# response=r.json()\n",
    "r=requests.get(FPL_ALL_DATA)\n",
    "response=r.json()\n",
    "\n",
    "\n",
    "# print(json.dumps(response,indent=4,sort_keys=True))\n"
   ]
  },
  {
   "cell_type": "code",
   "execution_count": 9,
   "metadata": {
    "tags": []
   },
   "outputs": [
    {
     "output_type": "stream",
     "name": "stdout",
     "text": [
      "Chelsea:4 | Crystal Palace:0\nEverton:4 | Brighton:2\nLeeds:1 | Man City:1\nNewcastle:3 | Burnley:1\nLeicester:0 | West Ham:3\nSouthampton:2 | West Brom:0\nArsenal:2 | Sheffield Utd:1\nWolves:1 | Fulham:0\nMan Utd:1 | Spurs:6\nAston Villa:7 | Liverpool:2\n"
     ]
    }
   ],
   "source": [
    "def fixtures(gameweek):\n",
    "    URL=FPL_FIXTURES_DATA+str(gameweek)\n",
    "    matchdata=requests.get(URL)\n",
    "    fix=matchdata.json()\n",
    "    # print(len(fix))\n",
    "\n",
    "    # print(json.dumps(fix,indent=4,sort_keys=True))\n",
    "    for num in range(0,len(fix)):  \n",
    "        hometeam=fix[num]['team_h']\n",
    "        hometeam_score=fix[num]['team_h_score']\n",
    "        for i in response['teams']:\n",
    "            if i['id']==hometeam:\n",
    "                hometeam_name=i['name']\n",
    "    \n",
    "        awayteam=fix[num]['team_a']\n",
    "        awayteam_score=fix[num]['team_a_score']\n",
    "        for i in response['teams']:\n",
    "            if i['id']==awayteam:\n",
    "                awayteam_name=i['name']\n",
    "        \n",
    "\n",
    "        print(hometeam_name+':'+str(hometeam_score) +' | '+ awayteam_name+':'+str(awayteam_score))\n",
    "   \n",
    "    \n",
    "fixtures(4)\n"
   ]
  },
  {
   "cell_type": "code",
   "execution_count": 26,
   "metadata": {},
   "outputs": [
    {
     "output_type": "stream",
     "name": "stdout",
     "text": [
      "Jorginho\nChelsea:4 | Crystal Palace:0\n[{'value': 2, 'element': 105}, {'value': 1, 'element': 110}, {'value': 1, 'element': 232}]\n[105, 110, 232]\n"
     ]
    }
   ],
   "source": [
    "def results_by_team(teamname,gameweek):\n",
    "    URL=FPL_FIXTURES_DATA+str(gameweek)\n",
    "    matchdata=requests.get(URL)\n",
    "    fix=matchdata.json()\n",
    "    for i in response['teams']:\n",
    "        if i['name']==teamname:\n",
    "            team_id=i['id']\n",
    "    #score of match\n",
    "    for num in range(0,len(fix)):\n",
    "        if fix[num]['team_a']==team_id or fix[num]['team_h']==team_id:\n",
    "            matchid=fix[num][\"id\"]  #id of the particular match\n",
    "            awayteamid=fix[num]['team_a']\n",
    "            awayteam_score=fix[num]['team_a_score']\n",
    "            for i in response['teams']:\n",
    "                if i['id']==awayteamid:\n",
    "                    awayteam_name=i['name']\n",
    "            hometeamid=fix[num]['team_h']\n",
    "            hometeam_score=fix[num]['team_h_score']\n",
    "            for i in response['teams']:\n",
    "                if i['id']==hometeamid:\n",
    "                    hometeam_name=i['name']\n",
    "    \n",
    "    #stats of the match\n",
    "    homescorers=[]\n",
    "    awayscorers=[]\n",
    "    for num in range(0,len(fix)):\n",
    "        if fix[num]['id']==matchid:\n",
    "            #goal scored\n",
    "            for stat in fix[num][\"stats\"]:\n",
    "                if stat['identifier']=='goals_scored':\n",
    "                    for homescorer in stat['h']:  #goal scorers of home team\n",
    "                        homescorers.append(homescorer)\n",
    "                    for awayscorer in stat['a']:   #goal scorers of away team\n",
    "                        awayscorers.append(awayscorer)\n",
    "\n",
    "    for i in response['elements']:\n",
    "        if i['id']==105:\n",
    "            print(i['web_name'])   \n",
    "    home_scorer_ids=[i['element'] for i in homescorers]\n",
    "        \n",
    "    print(hometeam_name+':'+str(hometeam_score) +' | '+ awayteam_name+':'+str(awayteam_score))\n",
    "    print(homescorers)\n",
    "    print(home_scorer_ids)\n",
    "    # print(awayscorers)\n",
    "            \n",
    "\n",
    "results_by_team('Chelsea',4)\n"
   ]
  },
  {
   "cell_type": "code",
   "execution_count": null,
   "metadata": {},
   "outputs": [],
   "source": []
  }
 ]
}